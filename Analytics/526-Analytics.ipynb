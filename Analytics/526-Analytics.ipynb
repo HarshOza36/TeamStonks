{
 "cells": [
  {
   "cell_type": "code",
   "execution_count": 1,
   "metadata": {},
   "outputs": [],
   "source": [
    "import pandas as pd\n",
    "import matplotlib.pyplot as plt\n",
    "from matplotlib.pyplot import figure\n",
    "import seaborn as sns\n",
    "import numpy as np"
   ]
  },
  {
   "cell_type": "code",
   "execution_count": 2,
   "metadata": {},
   "outputs": [],
   "source": [
    "data = pd.read_csv('TeamStonks Analytics.csv')"
   ]
  },
  {
   "cell_type": "code",
   "execution_count": 3,
   "metadata": {},
   "outputs": [
    {
     "data": {
      "text/html": [
       "<div>\n",
       "<style scoped>\n",
       "    .dataframe tbody tr th:only-of-type {\n",
       "        vertical-align: middle;\n",
       "    }\n",
       "\n",
       "    .dataframe tbody tr th {\n",
       "        vertical-align: top;\n",
       "    }\n",
       "\n",
       "    .dataframe thead th {\n",
       "        text-align: right;\n",
       "    }\n",
       "</style>\n",
       "<table border=\"1\" class=\"dataframe\">\n",
       "  <thead>\n",
       "    <tr style=\"text-align: right;\">\n",
       "      <th></th>\n",
       "      <th>Timestamp</th>\n",
       "      <th>StartedLevel</th>\n",
       "      <th>EndLevel</th>\n",
       "      <th>TimeRemainingOnEnd</th>\n",
       "    </tr>\n",
       "  </thead>\n",
       "  <tbody>\n",
       "    <tr>\n",
       "      <th>0</th>\n",
       "      <td>2022/09/26 5:44:23 PM MDT</td>\n",
       "      <td>1.0</td>\n",
       "      <td>NaN</td>\n",
       "      <td>NaN</td>\n",
       "    </tr>\n",
       "    <tr>\n",
       "      <th>1</th>\n",
       "      <td>2022/09/26 5:44:38 PM MDT</td>\n",
       "      <td>NaN</td>\n",
       "      <td>1.0</td>\n",
       "      <td>NaN</td>\n",
       "    </tr>\n",
       "    <tr>\n",
       "      <th>2</th>\n",
       "      <td>2022/09/26 5:44:46 PM MDT</td>\n",
       "      <td>1.0</td>\n",
       "      <td>NaN</td>\n",
       "      <td>NaN</td>\n",
       "    </tr>\n",
       "    <tr>\n",
       "      <th>3</th>\n",
       "      <td>2022/09/26 5:45:12 PM MDT</td>\n",
       "      <td>1.0</td>\n",
       "      <td>NaN</td>\n",
       "      <td>NaN</td>\n",
       "    </tr>\n",
       "    <tr>\n",
       "      <th>4</th>\n",
       "      <td>2022/09/26 5:45:40 PM MDT</td>\n",
       "      <td>1.0</td>\n",
       "      <td>NaN</td>\n",
       "      <td>NaN</td>\n",
       "    </tr>\n",
       "    <tr>\n",
       "      <th>5</th>\n",
       "      <td>2022/09/26 5:45:58 PM MDT</td>\n",
       "      <td>NaN</td>\n",
       "      <td>1.0</td>\n",
       "      <td>NaN</td>\n",
       "    </tr>\n",
       "    <tr>\n",
       "      <th>6</th>\n",
       "      <td>2022/09/26 5:46:34 PM MDT</td>\n",
       "      <td>1.0</td>\n",
       "      <td>NaN</td>\n",
       "      <td>NaN</td>\n",
       "    </tr>\n",
       "    <tr>\n",
       "      <th>7</th>\n",
       "      <td>2022/09/26 5:46:44 PM MDT</td>\n",
       "      <td>NaN</td>\n",
       "      <td>1.0</td>\n",
       "      <td>NaN</td>\n",
       "    </tr>\n",
       "    <tr>\n",
       "      <th>8</th>\n",
       "      <td>2022/09/26 5:46:46 PM MDT</td>\n",
       "      <td>1.0</td>\n",
       "      <td>NaN</td>\n",
       "      <td>NaN</td>\n",
       "    </tr>\n",
       "    <tr>\n",
       "      <th>9</th>\n",
       "      <td>2022/09/26 5:47:09 PM MDT</td>\n",
       "      <td>NaN</td>\n",
       "      <td>1.0</td>\n",
       "      <td>NaN</td>\n",
       "    </tr>\n",
       "    <tr>\n",
       "      <th>10</th>\n",
       "      <td>2022/09/26 5:49:03 PM MDT</td>\n",
       "      <td>1.0</td>\n",
       "      <td>NaN</td>\n",
       "      <td>NaN</td>\n",
       "    </tr>\n",
       "    <tr>\n",
       "      <th>11</th>\n",
       "      <td>2022/09/26 5:49:18 PM MDT</td>\n",
       "      <td>NaN</td>\n",
       "      <td>1.0</td>\n",
       "      <td>NaN</td>\n",
       "    </tr>\n",
       "    <tr>\n",
       "      <th>12</th>\n",
       "      <td>2022/09/26 5:51:18 PM MDT</td>\n",
       "      <td>1.0</td>\n",
       "      <td>NaN</td>\n",
       "      <td>NaN</td>\n",
       "    </tr>\n",
       "    <tr>\n",
       "      <th>13</th>\n",
       "      <td>2022/09/26 5:56:14 PM MDT</td>\n",
       "      <td>1.0</td>\n",
       "      <td>NaN</td>\n",
       "      <td>NaN</td>\n",
       "    </tr>\n",
       "    <tr>\n",
       "      <th>14</th>\n",
       "      <td>2022/09/26 5:56:36 PM MDT</td>\n",
       "      <td>NaN</td>\n",
       "      <td>1.0</td>\n",
       "      <td>NaN</td>\n",
       "    </tr>\n",
       "    <tr>\n",
       "      <th>15</th>\n",
       "      <td>2022/09/26 5:56:36 PM MDT</td>\n",
       "      <td>NaN</td>\n",
       "      <td>NaN</td>\n",
       "      <td>1.500150</td>\n",
       "    </tr>\n",
       "    <tr>\n",
       "      <th>16</th>\n",
       "      <td>2022/09/26 6:00:55 PM MDT</td>\n",
       "      <td>1.0</td>\n",
       "      <td>NaN</td>\n",
       "      <td>NaN</td>\n",
       "    </tr>\n",
       "    <tr>\n",
       "      <th>17</th>\n",
       "      <td>2022/09/26 6:01:11 PM MDT</td>\n",
       "      <td>NaN</td>\n",
       "      <td>1.0</td>\n",
       "      <td>NaN</td>\n",
       "    </tr>\n",
       "    <tr>\n",
       "      <th>18</th>\n",
       "      <td>2022/09/26 6:01:11 PM MDT</td>\n",
       "      <td>NaN</td>\n",
       "      <td>NaN</td>\n",
       "      <td>12.640100</td>\n",
       "    </tr>\n",
       "    <tr>\n",
       "      <th>19</th>\n",
       "      <td>2022/09/26 6:02:12 PM MDT</td>\n",
       "      <td>1.0</td>\n",
       "      <td>NaN</td>\n",
       "      <td>NaN</td>\n",
       "    </tr>\n",
       "    <tr>\n",
       "      <th>20</th>\n",
       "      <td>2022/09/26 6:02:25 PM MDT</td>\n",
       "      <td>NaN</td>\n",
       "      <td>NaN</td>\n",
       "      <td>15.832720</td>\n",
       "    </tr>\n",
       "    <tr>\n",
       "      <th>21</th>\n",
       "      <td>2022/09/26 6:02:25 PM MDT</td>\n",
       "      <td>NaN</td>\n",
       "      <td>1.0</td>\n",
       "      <td>NaN</td>\n",
       "    </tr>\n",
       "    <tr>\n",
       "      <th>22</th>\n",
       "      <td>2022/09/26 6:02:35 PM MDT</td>\n",
       "      <td>1.0</td>\n",
       "      <td>NaN</td>\n",
       "      <td>NaN</td>\n",
       "    </tr>\n",
       "    <tr>\n",
       "      <th>23</th>\n",
       "      <td>2022/09/26 6:02:58 PM MDT</td>\n",
       "      <td>NaN</td>\n",
       "      <td>1.0</td>\n",
       "      <td>NaN</td>\n",
       "    </tr>\n",
       "    <tr>\n",
       "      <th>24</th>\n",
       "      <td>2022/09/26 6:02:58 PM MDT</td>\n",
       "      <td>NaN</td>\n",
       "      <td>NaN</td>\n",
       "      <td>6.202468</td>\n",
       "    </tr>\n",
       "    <tr>\n",
       "      <th>25</th>\n",
       "      <td>2022/09/26 6:03:02 PM MDT</td>\n",
       "      <td>1.0</td>\n",
       "      <td>NaN</td>\n",
       "      <td>NaN</td>\n",
       "    </tr>\n",
       "    <tr>\n",
       "      <th>26</th>\n",
       "      <td>2022/09/26 6:03:14 PM MDT</td>\n",
       "      <td>NaN</td>\n",
       "      <td>NaN</td>\n",
       "      <td>17.750370</td>\n",
       "    </tr>\n",
       "    <tr>\n",
       "      <th>27</th>\n",
       "      <td>2022/09/26 6:03:14 PM MDT</td>\n",
       "      <td>NaN</td>\n",
       "      <td>1.0</td>\n",
       "      <td>NaN</td>\n",
       "    </tr>\n",
       "    <tr>\n",
       "      <th>28</th>\n",
       "      <td>2022/09/26 6:03:29 PM MDT</td>\n",
       "      <td>1.0</td>\n",
       "      <td>NaN</td>\n",
       "      <td>NaN</td>\n",
       "    </tr>\n",
       "    <tr>\n",
       "      <th>29</th>\n",
       "      <td>2022/09/26 6:03:50 PM MDT</td>\n",
       "      <td>NaN</td>\n",
       "      <td>1.0</td>\n",
       "      <td>NaN</td>\n",
       "    </tr>\n",
       "    <tr>\n",
       "      <th>30</th>\n",
       "      <td>2022/09/26 6:03:50 PM MDT</td>\n",
       "      <td>NaN</td>\n",
       "      <td>NaN</td>\n",
       "      <td>3.481785</td>\n",
       "    </tr>\n",
       "    <tr>\n",
       "      <th>31</th>\n",
       "      <td>2022/09/26 6:03:52 PM MDT</td>\n",
       "      <td>1.0</td>\n",
       "      <td>NaN</td>\n",
       "      <td>NaN</td>\n",
       "    </tr>\n",
       "    <tr>\n",
       "      <th>32</th>\n",
       "      <td>2022/09/26 6:04:03 PM MDT</td>\n",
       "      <td>NaN</td>\n",
       "      <td>1.0</td>\n",
       "      <td>NaN</td>\n",
       "    </tr>\n",
       "    <tr>\n",
       "      <th>33</th>\n",
       "      <td>2022/09/26 6:04:03 PM MDT</td>\n",
       "      <td>NaN</td>\n",
       "      <td>NaN</td>\n",
       "      <td>18.228780</td>\n",
       "    </tr>\n",
       "    <tr>\n",
       "      <th>34</th>\n",
       "      <td>2022/09/26 6:04:20 PM MDT</td>\n",
       "      <td>1.0</td>\n",
       "      <td>NaN</td>\n",
       "      <td>NaN</td>\n",
       "    </tr>\n",
       "    <tr>\n",
       "      <th>35</th>\n",
       "      <td>2022/09/26 6:04:29 PM MDT</td>\n",
       "      <td>NaN</td>\n",
       "      <td>1.0</td>\n",
       "      <td>NaN</td>\n",
       "    </tr>\n",
       "    <tr>\n",
       "      <th>36</th>\n",
       "      <td>2022/09/26 6:04:29 PM MDT</td>\n",
       "      <td>NaN</td>\n",
       "      <td>NaN</td>\n",
       "      <td>25.354190</td>\n",
       "    </tr>\n",
       "  </tbody>\n",
       "</table>\n",
       "</div>"
      ],
      "text/plain": [
       "                    Timestamp  StartedLevel  EndLevel  TimeRemainingOnEnd\n",
       "0   2022/09/26 5:44:23 PM MDT           1.0       NaN                 NaN\n",
       "1   2022/09/26 5:44:38 PM MDT           NaN       1.0                 NaN\n",
       "2   2022/09/26 5:44:46 PM MDT           1.0       NaN                 NaN\n",
       "3   2022/09/26 5:45:12 PM MDT           1.0       NaN                 NaN\n",
       "4   2022/09/26 5:45:40 PM MDT           1.0       NaN                 NaN\n",
       "5   2022/09/26 5:45:58 PM MDT           NaN       1.0                 NaN\n",
       "6   2022/09/26 5:46:34 PM MDT           1.0       NaN                 NaN\n",
       "7   2022/09/26 5:46:44 PM MDT           NaN       1.0                 NaN\n",
       "8   2022/09/26 5:46:46 PM MDT           1.0       NaN                 NaN\n",
       "9   2022/09/26 5:47:09 PM MDT           NaN       1.0                 NaN\n",
       "10  2022/09/26 5:49:03 PM MDT           1.0       NaN                 NaN\n",
       "11  2022/09/26 5:49:18 PM MDT           NaN       1.0                 NaN\n",
       "12  2022/09/26 5:51:18 PM MDT           1.0       NaN                 NaN\n",
       "13  2022/09/26 5:56:14 PM MDT           1.0       NaN                 NaN\n",
       "14  2022/09/26 5:56:36 PM MDT           NaN       1.0                 NaN\n",
       "15  2022/09/26 5:56:36 PM MDT           NaN       NaN            1.500150\n",
       "16  2022/09/26 6:00:55 PM MDT           1.0       NaN                 NaN\n",
       "17  2022/09/26 6:01:11 PM MDT           NaN       1.0                 NaN\n",
       "18  2022/09/26 6:01:11 PM MDT           NaN       NaN           12.640100\n",
       "19  2022/09/26 6:02:12 PM MDT           1.0       NaN                 NaN\n",
       "20  2022/09/26 6:02:25 PM MDT           NaN       NaN           15.832720\n",
       "21  2022/09/26 6:02:25 PM MDT           NaN       1.0                 NaN\n",
       "22  2022/09/26 6:02:35 PM MDT           1.0       NaN                 NaN\n",
       "23  2022/09/26 6:02:58 PM MDT           NaN       1.0                 NaN\n",
       "24  2022/09/26 6:02:58 PM MDT           NaN       NaN            6.202468\n",
       "25  2022/09/26 6:03:02 PM MDT           1.0       NaN                 NaN\n",
       "26  2022/09/26 6:03:14 PM MDT           NaN       NaN           17.750370\n",
       "27  2022/09/26 6:03:14 PM MDT           NaN       1.0                 NaN\n",
       "28  2022/09/26 6:03:29 PM MDT           1.0       NaN                 NaN\n",
       "29  2022/09/26 6:03:50 PM MDT           NaN       1.0                 NaN\n",
       "30  2022/09/26 6:03:50 PM MDT           NaN       NaN            3.481785\n",
       "31  2022/09/26 6:03:52 PM MDT           1.0       NaN                 NaN\n",
       "32  2022/09/26 6:04:03 PM MDT           NaN       1.0                 NaN\n",
       "33  2022/09/26 6:04:03 PM MDT           NaN       NaN           18.228780\n",
       "34  2022/09/26 6:04:20 PM MDT           1.0       NaN                 NaN\n",
       "35  2022/09/26 6:04:29 PM MDT           NaN       1.0                 NaN\n",
       "36  2022/09/26 6:04:29 PM MDT           NaN       NaN           25.354190"
      ]
     },
     "execution_count": 3,
     "metadata": {},
     "output_type": "execute_result"
    }
   ],
   "source": [
    "data"
   ]
  },
  {
   "cell_type": "markdown",
   "metadata": {},
   "source": [
    "### Analytics graph #1"
   ]
  },
  {
   "cell_type": "code",
   "execution_count": 13,
   "metadata": {},
   "outputs": [],
   "source": [
    "# ylabels = [data['StartedLevel'].sum(), data['EndLevel'].sum()]\n",
    "lvl_starts = [23, 19, 5]\n",
    "lvl_ends = [21, 6, 2]"
   ]
  },
  {
   "cell_type": "code",
   "execution_count": 14,
   "metadata": {},
   "outputs": [],
   "source": [
    "labels = ['Lvl 1', 'Lvl 2', 'Lvl3']\n",
    "xlabels = ['Game Started', 'Game Ended']"
   ]
  },
  {
   "cell_type": "code",
   "execution_count": 61,
   "metadata": {},
   "outputs": [
    {
     "data": {
      "image/png": "[encoded data removed]",
      "text/plain": [
       "<Figure size 720x720 with 1 Axes>"
      ]
     },
     "metadata": {
      "needs_background": "light"
     },
     "output_type": "display_data"
    }
   ],
   "source": [
    "x = np.arange(len(labels))\n",
    "width = 0.4\n",
    "\n",
    "fig, ax = plt.subplots(figsize=(10,10))\n",
    "rects1 = ax.bar(x - width/2, lvl_starts, width, label='Starts')\n",
    "rects2 = ax.bar(x + width/2, lvl_ends, width, label='Ends')\n",
    "\n",
    "ax.set_ylabel('No. of plays')\n",
    "ax.set_title('Plays grouped by levels')\n",
    "ax.set_xticks(x, labels)\n",
    "ax.legend()\n",
    "\n",
    "ax.bar_label(rects1, padding=3)\n",
    "ax.bar_label(rects2, padding=3)\n",
    "plt.show()"
   ]
  },
  {
   "cell_type": "markdown",
   "metadata": {},
   "source": [
    "### Analytics graph #2"
   ]
  },
  {
   "cell_type": "code",
   "execution_count": 4,
   "metadata": {},
   "outputs": [
    {
     "data": {
      "image/png": "[encoded data removed]",
      "text/plain": [
       "<Figure size 720x720 with 1 Axes>"
      ]
     },
     "metadata": {
      "needs_background": "light"
     },
     "output_type": "display_data"
    }
   ],
   "source": [
    "x = ['Lvl-1', 'Lvl-2', 'Lvl-3', 'Tutorial']\n",
    "\n",
    "y = [20, 31, 11, 25]\n",
    "\n",
    "x_pos = [i for i in range(len(x))]\n",
    "\n",
    "fig = plt.figure(figsize=(10,10)) \n",
    "\n",
    "plt.bar(x_pos, y)\n",
    "\n",
    "plt.xlabel(\"Main Menu Buttons\")\n",
    "\n",
    "plt.ylabel(\"Times btn pressed\")\n",
    "\n",
    "plt.title(\"User Engagement Metrics\")\n",
    "\n",
    "plt.xticks(x_pos, x)\n",
    "\n",
    "plt.show()"
   ]
  },
  {
   "cell_type": "markdown",
   "metadata": {},
   "source": [
    "### Analytics graph #3 "
   ]
  },
  {
   "cell_type": "code",
   "execution_count": 62,
   "metadata": {},
   "outputs": [
    {
     "data": {
      "image/png": "[encoded data removed]",
      "text/plain": [
       "<Figure size 720x720 with 1 Axes>"
      ]
     },
     "metadata": {
      "needs_background": "light"
     },
     "output_type": "display_data"
    }
   ],
   "source": [
    "x = ['Jump Boost', 'Slow down', 'Time Penalty']\n",
    "\n",
    "y = [20, 31, 11]\n",
    "\n",
    "x_pos = [i for i in range(len(x))]\n",
    "\n",
    "fig = plt.figure(figsize=(10,10)) \n",
    "\n",
    "plt.bar(x_pos, y)\n",
    "\n",
    "plt.xlabel(\"Powerups\")\n",
    "\n",
    "plt.ylabel(\"Times Used\")\n",
    "\n",
    "plt.title(\"Powerups usage distribution\")\n",
    "\n",
    "plt.xticks(x_pos, x)\n",
    "\n",
    "plt.show()"
   ]
  },
  {
   "cell_type": "markdown",
   "metadata": {},
   "source": [
    "### Analytics graph #4"
   ]
  },
  {
   "cell_type": "code",
   "execution_count": 60,
   "metadata": {},
   "outputs": [
    {
     "data": {
      "image/png": "[encoded data removed]",
      "text/plain": [
       "<Figure size 720x720 with 1 Axes>"
      ]
     },
     "metadata": {
      "needs_background": "light"
     },
     "output_type": "display_data"
    }
   ],
   "source": [
    "labels = ['Lvl-1', 'Lvl-2', 'Lvl-3']\n",
    "\n",
    "avg_time_left = [27.5, 18.9, 8.2]\n",
    "\n",
    "total_time = [60, 45, 30]\n",
    "\n",
    "width = 0.4\n",
    "\n",
    "fig, ax = plt.subplots(figsize=(10,10))\n",
    "\n",
    "ax.bar(labels, total_time, width, label='Total Time')\n",
    "\n",
    "ax.bar(labels, avg_time_left, width, bottom=total_time, label='Avg Time Left')\n",
    "\n",
    "ax.set_ylabel('Time')\n",
    "\n",
    "ax.set_title('Avg time left and total time per level')\n",
    "\n",
    "ax.legend()\n",
    "\n",
    "plt.show()"
   ]
  },
  {
   "cell_type": "markdown",
   "metadata": {},
   "source": [
    "### Analytics graph #5"
   ]
  },
  {
   "cell_type": "code",
   "execution_count": 3,
   "metadata": {},
   "outputs": [
    {
     "data": {
      "image/png": "[encoded data removed]",
      "text/plain": [
       "<Figure size 720x720 with 1 Axes>"
      ]
     },
     "metadata": {
      "needs_background": "light"
     },
     "output_type": "display_data"
    }
   ],
   "source": [
    "x = ['Jumps Pressed', 'Left-Right Pressed', 'Teleportation (M) Pressed']\n",
    "\n",
    "y = [52, 31, 11]\n",
    "\n",
    "x_pos = [i for i in range(len(x))]\n",
    "\n",
    "fig = plt.figure(figsize=(10,10)) \n",
    "\n",
    "plt.bar(x_pos, y)\n",
    "\n",
    "plt.xlabel(\"Buttons Pressed\")\n",
    "\n",
    "plt.ylabel(\"Times Used\")\n",
    "\n",
    "plt.title(\"Buttons Pressed usage distribution\")\n",
    "\n",
    "plt.xticks(x_pos, x)\n",
    "\n",
    "plt.show()"
   ]
  },
  {
   "cell_type": "markdown",
   "metadata": {},
   "source": [
    "### Analytics graph #6"
   ]
  },
  {
   "cell_type": "code",
   "execution_count": 6,
   "metadata": {},
   "outputs": [
    {
     "data": {
      "image/png": "[encoded data removed]",
      "text/plain": [
       "<Figure size 720x720 with 1 Axes>"
      ]
     },
     "metadata": {
      "needs_background": "light"
     },
     "output_type": "display_data"
    }
   ],
   "source": [
    "x = ['Lvl-1', 'Lvl-2', 'Lvl-3']\n",
    "\n",
    "y = [85, 72, 60]\n",
    "\n",
    "x_pos = [i for i in range(len(x))]\n",
    "\n",
    "fig = plt.figure(figsize=(10,10)) \n",
    "\n",
    "plt.bar(x_pos, y)\n",
    "\n",
    "plt.xlabel(\"Levels\")\n",
    "\n",
    "plt.ylabel(\"% level completed\")\n",
    "\n",
    "plt.title(\"Level completion metrics\")\n",
    "\n",
    "plt.xticks(x_pos, x)\n",
    "\n",
    "plt.show()"
   ]
  },
  {
   "cell_type": "code",
   "execution_count": 2,
   "metadata": {},
   "outputs": [
    {
     "data": {
      "text/plain": [
       "Text(0, 0.5, 'Number of times')"
      ]
     },
     "execution_count": 2,
     "metadata": {},
     "output_type": "execute_result"
    },
    {
     "data": {
      "image/png": "[encoded data removed]",
      "text/plain": [
       "<Figure size 1080x576 with 1 Axes>"
      ]
     },
     "metadata": {
      "needs_background": "light"
     },
     "output_type": "display_data"
    }
   ],
   "source": [
    "import pandas as pd\n",
    "\n",
    "plotdata = pd.DataFrame({\n",
    "\n",
    "    \"Pause\":[57,67,77,83],\n",
    "\n",
    "    \"Resume\":[50,60,72,75],\n",
    "\n",
    "    \"Quit\":[70,75,84,90],\n",
    "    \n",
    "    \"Restart\":[40,45,50,52]},\n",
    "    \n",
    "\n",
    "    index=[\"Level-1\", \"Level-2\", \"Level-3\", \"Level-4\"])\n",
    "\n",
    "plotdata.plot(kind=\"bar\",figsize=(15, 8))\n",
    "\n",
    "plt.title(\"Button Presses\")\n",
    "\n",
    "plt.xlabel(\"Levels\")\n",
    "plt.ylabel(\"Number of times\")"
   ]
  },
  {
   "cell_type": "code",
   "execution_count": null,
   "metadata": {},
   "outputs": [],
   "source": []
  }
 ],
 "metadata": {
  "kernelspec": {
   "display_name": "Python 3",
   "language": "python",
   "name": "python3"
  },
  "language_info": {
   "codemirror_mode": {
    "name": "ipython",
    "version": 3
   },
   "file_extension": ".py",
   "mimetype": "text/x-python",
   "name": "python",
   "nbconvert_exporter": "python",
   "pygments_lexer": "ipython3",
   "version": "3.8.3"
  }
 },
 "nbformat": 4,
 "nbformat_minor": 4
}
