{
 "cells": [
  {
   "cell_type": "code",
   "execution_count": 1,
   "metadata": {},
   "outputs": [],
   "source": [
    "import pandas as pd\n",
    "import matplotlib.pyplot as plt\n",
    "from matplotlib.pyplot import figure\n",
    "import seaborn as sns\n",
    "import numpy as np"
   ]
  },
  {
   "cell_type": "code",
   "execution_count": 2,
   "metadata": {},
   "outputs": [],
   "source": [
    "data = pd.read_csv('TeamStonks Analytics.csv')"
   ]
  },
  {
   "cell_type": "code",
   "execution_count": 3,
   "metadata": {},
   "outputs": [
    {
     "data": {
      "text/html": [
       "<div>\n",
       "<style scoped>\n",
       "    .dataframe tbody tr th:only-of-type {\n",
       "        vertical-align: middle;\n",
       "    }\n",
       "\n",
       "    .dataframe tbody tr th {\n",
       "        vertical-align: top;\n",
       "    }\n",
       "\n",
       "    .dataframe thead th {\n",
       "        text-align: right;\n",
       "    }\n",
       "</style>\n",
       "<table border=\"1\" class=\"dataframe\">\n",
       "  <thead>\n",
       "    <tr style=\"text-align: right;\">\n",
       "      <th></th>\n",
       "      <th>Timestamp</th>\n",
       "      <th>StartedLevel</th>\n",
       "      <th>EndLevel</th>\n",
       "      <th>TimeRemainingOnEnd</th>\n",
       "    </tr>\n",
       "  </thead>\n",
       "  <tbody>\n",
       "    <tr>\n",
       "      <th>0</th>\n",
       "      <td>2022/09/26 5:44:23 PM MDT</td>\n",
       "      <td>1.0</td>\n",
       "      <td>NaN</td>\n",
       "      <td>NaN</td>\n",
       "    </tr>\n",
       "    <tr>\n",
       "      <th>1</th>\n",
       "      <td>2022/09/26 5:44:38 PM MDT</td>\n",
       "      <td>NaN</td>\n",
       "      <td>1.0</td>\n",
       "      <td>NaN</td>\n",
       "    </tr>\n",
       "    <tr>\n",
       "      <th>2</th>\n",
       "      <td>2022/09/26 5:44:46 PM MDT</td>\n",
       "      <td>1.0</td>\n",
       "      <td>NaN</td>\n",
       "      <td>NaN</td>\n",
       "    </tr>\n",
       "    <tr>\n",
       "      <th>3</th>\n",
       "      <td>2022/09/26 5:45:12 PM MDT</td>\n",
       "      <td>1.0</td>\n",
       "      <td>NaN</td>\n",
       "      <td>NaN</td>\n",
       "    </tr>\n",
       "    <tr>\n",
       "      <th>4</th>\n",
       "      <td>2022/09/26 5:45:40 PM MDT</td>\n",
       "      <td>1.0</td>\n",
       "      <td>NaN</td>\n",
       "      <td>NaN</td>\n",
       "    </tr>\n",
       "    <tr>\n",
       "      <th>5</th>\n",
       "      <td>2022/09/26 5:45:58 PM MDT</td>\n",
       "      <td>NaN</td>\n",
       "      <td>1.0</td>\n",
       "      <td>NaN</td>\n",
       "    </tr>\n",
       "    <tr>\n",
       "      <th>6</th>\n",
       "      <td>2022/09/26 5:46:34 PM MDT</td>\n",
       "      <td>1.0</td>\n",
       "      <td>NaN</td>\n",
       "      <td>NaN</td>\n",
       "    </tr>\n",
       "    <tr>\n",
       "      <th>7</th>\n",
       "      <td>2022/09/26 5:46:44 PM MDT</td>\n",
       "      <td>NaN</td>\n",
       "      <td>1.0</td>\n",
       "      <td>NaN</td>\n",
       "    </tr>\n",
       "    <tr>\n",
       "      <th>8</th>\n",
       "      <td>2022/09/26 5:46:46 PM MDT</td>\n",
       "      <td>1.0</td>\n",
       "      <td>NaN</td>\n",
       "      <td>NaN</td>\n",
       "    </tr>\n",
       "    <tr>\n",
       "      <th>9</th>\n",
       "      <td>2022/09/26 5:47:09 PM MDT</td>\n",
       "      <td>NaN</td>\n",
       "      <td>1.0</td>\n",
       "      <td>NaN</td>\n",
       "    </tr>\n",
       "    <tr>\n",
       "      <th>10</th>\n",
       "      <td>2022/09/26 5:49:03 PM MDT</td>\n",
       "      <td>1.0</td>\n",
       "      <td>NaN</td>\n",
       "      <td>NaN</td>\n",
       "    </tr>\n",
       "    <tr>\n",
       "      <th>11</th>\n",
       "      <td>2022/09/26 5:49:18 PM MDT</td>\n",
       "      <td>NaN</td>\n",
       "      <td>1.0</td>\n",
       "      <td>NaN</td>\n",
       "    </tr>\n",
       "    <tr>\n",
       "      <th>12</th>\n",
       "      <td>2022/09/26 5:51:18 PM MDT</td>\n",
       "      <td>1.0</td>\n",
       "      <td>NaN</td>\n",
       "      <td>NaN</td>\n",
       "    </tr>\n",
       "    <tr>\n",
       "      <th>13</th>\n",
       "      <td>2022/09/26 5:56:14 PM MDT</td>\n",
       "      <td>1.0</td>\n",
       "      <td>NaN</td>\n",
       "      <td>NaN</td>\n",
       "    </tr>\n",
       "    <tr>\n",
       "      <th>14</th>\n",
       "      <td>2022/09/26 5:56:36 PM MDT</td>\n",
       "      <td>NaN</td>\n",
       "      <td>1.0</td>\n",
       "      <td>NaN</td>\n",
       "    </tr>\n",
       "    <tr>\n",
       "      <th>15</th>\n",
       "      <td>2022/09/26 5:56:36 PM MDT</td>\n",
       "      <td>NaN</td>\n",
       "      <td>NaN</td>\n",
       "      <td>1.500150</td>\n",
       "    </tr>\n",
       "    <tr>\n",
       "      <th>16</th>\n",
       "      <td>2022/09/26 6:00:55 PM MDT</td>\n",
       "      <td>1.0</td>\n",
       "      <td>NaN</td>\n",
       "      <td>NaN</td>\n",
       "    </tr>\n",
       "    <tr>\n",
       "      <th>17</th>\n",
       "      <td>2022/09/26 6:01:11 PM MDT</td>\n",
       "      <td>NaN</td>\n",
       "      <td>1.0</td>\n",
       "      <td>NaN</td>\n",
       "    </tr>\n",
       "    <tr>\n",
       "      <th>18</th>\n",
       "      <td>2022/09/26 6:01:11 PM MDT</td>\n",
       "      <td>NaN</td>\n",
       "      <td>NaN</td>\n",
       "      <td>12.640100</td>\n",
       "    </tr>\n",
       "    <tr>\n",
       "      <th>19</th>\n",
       "      <td>2022/09/26 6:02:12 PM MDT</td>\n",
       "      <td>1.0</td>\n",
       "      <td>NaN</td>\n",
       "      <td>NaN</td>\n",
       "    </tr>\n",
       "    <tr>\n",
       "      <th>20</th>\n",
       "      <td>2022/09/26 6:02:25 PM MDT</td>\n",
       "      <td>NaN</td>\n",
       "      <td>NaN</td>\n",
       "      <td>15.832720</td>\n",
       "    </tr>\n",
       "    <tr>\n",
       "      <th>21</th>\n",
       "      <td>2022/09/26 6:02:25 PM MDT</td>\n",
       "      <td>NaN</td>\n",
       "      <td>1.0</td>\n",
       "      <td>NaN</td>\n",
       "    </tr>\n",
       "    <tr>\n",
       "      <th>22</th>\n",
       "      <td>2022/09/26 6:02:35 PM MDT</td>\n",
       "      <td>1.0</td>\n",
       "      <td>NaN</td>\n",
       "      <td>NaN</td>\n",
       "    </tr>\n",
       "    <tr>\n",
       "      <th>23</th>\n",
       "      <td>2022/09/26 6:02:58 PM MDT</td>\n",
       "      <td>NaN</td>\n",
       "      <td>1.0</td>\n",
       "      <td>NaN</td>\n",
       "    </tr>\n",
       "    <tr>\n",
       "      <th>24</th>\n",
       "      <td>2022/09/26 6:02:58 PM MDT</td>\n",
       "      <td>NaN</td>\n",
       "      <td>NaN</td>\n",
       "      <td>6.202468</td>\n",
       "    </tr>\n",
       "    <tr>\n",
       "      <th>25</th>\n",
       "      <td>2022/09/26 6:03:02 PM MDT</td>\n",
       "      <td>1.0</td>\n",
       "      <td>NaN</td>\n",
       "      <td>NaN</td>\n",
       "    </tr>\n",
       "    <tr>\n",
       "      <th>26</th>\n",
       "      <td>2022/09/26 6:03:14 PM MDT</td>\n",
       "      <td>NaN</td>\n",
       "      <td>NaN</td>\n",
       "      <td>17.750370</td>\n",
       "    </tr>\n",
       "    <tr>\n",
       "      <th>27</th>\n",
       "      <td>2022/09/26 6:03:14 PM MDT</td>\n",
       "      <td>NaN</td>\n",
       "      <td>1.0</td>\n",
       "      <td>NaN</td>\n",
       "    </tr>\n",
       "    <tr>\n",
       "      <th>28</th>\n",
       "      <td>2022/09/26 6:03:29 PM MDT</td>\n",
       "      <td>1.0</td>\n",
       "      <td>NaN</td>\n",
       "      <td>NaN</td>\n",
       "    </tr>\n",
       "    <tr>\n",
       "      <th>29</th>\n",
       "      <td>2022/09/26 6:03:50 PM MDT</td>\n",
       "      <td>NaN</td>\n",
       "      <td>1.0</td>\n",
       "      <td>NaN</td>\n",
       "    </tr>\n",
       "    <tr>\n",
       "      <th>30</th>\n",
       "      <td>2022/09/26 6:03:50 PM MDT</td>\n",
       "      <td>NaN</td>\n",
       "      <td>NaN</td>\n",
       "      <td>3.481785</td>\n",
       "    </tr>\n",
       "    <tr>\n",
       "      <th>31</th>\n",
       "      <td>2022/09/26 6:03:52 PM MDT</td>\n",
       "      <td>1.0</td>\n",
       "      <td>NaN</td>\n",
       "      <td>NaN</td>\n",
       "    </tr>\n",
       "    <tr>\n",
       "      <th>32</th>\n",
       "      <td>2022/09/26 6:04:03 PM MDT</td>\n",
       "      <td>NaN</td>\n",
       "      <td>1.0</td>\n",
       "      <td>NaN</td>\n",
       "    </tr>\n",
       "    <tr>\n",
       "      <th>33</th>\n",
       "      <td>2022/09/26 6:04:03 PM MDT</td>\n",
       "      <td>NaN</td>\n",
       "      <td>NaN</td>\n",
       "      <td>18.228780</td>\n",
       "    </tr>\n",
       "    <tr>\n",
       "      <th>34</th>\n",
       "      <td>2022/09/26 6:04:20 PM MDT</td>\n",
       "      <td>1.0</td>\n",
       "      <td>NaN</td>\n",
       "      <td>NaN</td>\n",
       "    </tr>\n",
       "    <tr>\n",
       "      <th>35</th>\n",
       "      <td>2022/09/26 6:04:29 PM MDT</td>\n",
       "      <td>NaN</td>\n",
       "      <td>1.0</td>\n",
       "      <td>NaN</td>\n",
       "    </tr>\n",
       "    <tr>\n",
       "      <th>36</th>\n",
       "      <td>2022/09/26 6:04:29 PM MDT</td>\n",
       "      <td>NaN</td>\n",
       "      <td>NaN</td>\n",
       "      <td>25.354190</td>\n",
       "    </tr>\n",
       "  </tbody>\n",
       "</table>\n",
       "</div>"
      ],
      "text/plain": [
       "                    Timestamp  StartedLevel  EndLevel  TimeRemainingOnEnd\n",
       "0   2022/09/26 5:44:23 PM MDT           1.0       NaN                 NaN\n",
       "1   2022/09/26 5:44:38 PM MDT           NaN       1.0                 NaN\n",
       "2   2022/09/26 5:44:46 PM MDT           1.0       NaN                 NaN\n",
       "3   2022/09/26 5:45:12 PM MDT           1.0       NaN                 NaN\n",
       "4   2022/09/26 5:45:40 PM MDT           1.0       NaN                 NaN\n",
       "5   2022/09/26 5:45:58 PM MDT           NaN       1.0                 NaN\n",
       "6   2022/09/26 5:46:34 PM MDT           1.0       NaN                 NaN\n",
       "7   2022/09/26 5:46:44 PM MDT           NaN       1.0                 NaN\n",
       "8   2022/09/26 5:46:46 PM MDT           1.0       NaN                 NaN\n",
       "9   2022/09/26 5:47:09 PM MDT           NaN       1.0                 NaN\n",
       "10  2022/09/26 5:49:03 PM MDT           1.0       NaN                 NaN\n",
       "11  2022/09/26 5:49:18 PM MDT           NaN       1.0                 NaN\n",
       "12  2022/09/26 5:51:18 PM MDT           1.0       NaN                 NaN\n",
       "13  2022/09/26 5:56:14 PM MDT           1.0       NaN                 NaN\n",
       "14  2022/09/26 5:56:36 PM MDT           NaN       1.0                 NaN\n",
       "15  2022/09/26 5:56:36 PM MDT           NaN       NaN            1.500150\n",
       "16  2022/09/26 6:00:55 PM MDT           1.0       NaN                 NaN\n",
       "17  2022/09/26 6:01:11 PM MDT           NaN       1.0                 NaN\n",
       "18  2022/09/26 6:01:11 PM MDT           NaN       NaN           12.640100\n",
       "19  2022/09/26 6:02:12 PM MDT           1.0       NaN                 NaN\n",
       "20  2022/09/26 6:02:25 PM MDT           NaN       NaN           15.832720\n",
       "21  2022/09/26 6:02:25 PM MDT           NaN       1.0                 NaN\n",
       "22  2022/09/26 6:02:35 PM MDT           1.0       NaN                 NaN\n",
       "23  2022/09/26 6:02:58 PM MDT           NaN       1.0                 NaN\n",
       "24  2022/09/26 6:02:58 PM MDT           NaN       NaN            6.202468\n",
       "25  2022/09/26 6:03:02 PM MDT           1.0       NaN                 NaN\n",
       "26  2022/09/26 6:03:14 PM MDT           NaN       NaN           17.750370\n",
       "27  2022/09/26 6:03:14 PM MDT           NaN       1.0                 NaN\n",
       "28  2022/09/26 6:03:29 PM MDT           1.0       NaN                 NaN\n",
       "29  2022/09/26 6:03:50 PM MDT           NaN       1.0                 NaN\n",
       "30  2022/09/26 6:03:50 PM MDT           NaN       NaN            3.481785\n",
       "31  2022/09/26 6:03:52 PM MDT           1.0       NaN                 NaN\n",
       "32  2022/09/26 6:04:03 PM MDT           NaN       1.0                 NaN\n",
       "33  2022/09/26 6:04:03 PM MDT           NaN       NaN           18.228780\n",
       "34  2022/09/26 6:04:20 PM MDT           1.0       NaN                 NaN\n",
       "35  2022/09/26 6:04:29 PM MDT           NaN       1.0                 NaN\n",
       "36  2022/09/26 6:04:29 PM MDT           NaN       NaN           25.354190"
      ]
     },
     "execution_count": 3,
     "metadata": {},
     "output_type": "execute_result"
    }
   ],
   "source": [
    "data"
   ]
  },
  {
   "cell_type": "markdown",
   "metadata": {},
   "source": [
    "### Analytics graph #1"
   ]
  },
  {
   "cell_type": "code",
   "execution_count": 13,
   "metadata": {},
   "outputs": [],
   "source": [
    "# ylabels = [data['StartedLevel'].sum(), data['EndLevel'].sum()]\n",
    "lvl_starts = [23, 19, 5]\n",
    "lvl_ends = [21, 6, 2]"
   ]
  },
  {
   "cell_type": "code",
   "execution_count": 14,
   "metadata": {},
   "outputs": [],
   "source": [
    "labels = ['Lvl 1', 'Lvl 2', 'Lvl3']\n",
    "xlabels = ['Game Started', 'Game Ended']"
   ]
  },
  {
   "cell_type": "code",
   "execution_count": 61,
   "metadata": {},
   "outputs": [
    {
     "data": {
      "image/png": "[encoded data removed]",
      "text/plain": [
       "<Figure size 720x720 with 1 Axes>"
      ]
     },
     "metadata": {
      "needs_background": "light"
     },
     "output_type": "display_data"
    }
   ],
   "source": [
    "x = np.arange(len(labels))\n",
    "width = 0.4\n",
    "\n",
    "fig, ax = plt.subplots(figsize=(10,10))\n",
    "rects1 = ax.bar(x - width/2, lvl_starts, width, label='Starts')\n",
    "rects2 = ax.bar(x + width/2, lvl_ends, width, label='Ends')\n",
    "\n",
    "ax.set_ylabel('No. of plays')\n",
    "ax.set_title('Plays grouped by levels')\n",
    "ax.set_xticks(x, labels)\n",
    "ax.legend()\n",
    "\n",
    "ax.bar_label(rects1, padding=3)\n",
    "ax.bar_label(rects2, padding=3)\n",
    "plt.show()"
   ]
  },
  {
   "cell_type": "markdown",
   "metadata": {},
   "source": [
    "### Analytics graph #2"
   ]
  },
  {
   "cell_type": "code",
   "execution_count": 4,
   "metadata": {},
   "outputs": [
    {
     "data": {
      "image/png": "[encoded data removed]",
      "text/plain": [
       "<Figure size 720x720 with 1 Axes>"
      ]
     },
     "metadata": {
      "needs_background": "light"
     },
     "output_type": "display_data"
    }
   ],
   "source": [
    "x = ['Lvl-1', 'Lvl-2', 'Lvl-3', 'Tutorial']\n",
    "\n",
    "y = [20, 31, 11, 25]\n",
    "\n",
    "x_pos = [i for i in range(len(x))]\n",
    "\n",
    "fig = plt.figure(figsize=(10,10)) \n",
    "\n",
    "plt.bar(x_pos, y)\n",
    "\n",
    "plt.xlabel(\"Main Menu Buttons\")\n",
    "\n",
    "plt.ylabel(\"Times btn pressed\")\n",
    "\n",
    "plt.title(\"User Engagement Metrics\")\n",
    "\n",
    "plt.xticks(x_pos, x)\n",
    "\n",
    "plt.show()"
   ]
  },
  {
   "cell_type": "markdown",
   "metadata": {},
   "source": [
    "### Analytics graph #3 "
   ]
  },
  {
   "cell_type": "code",
   "execution_count": 62,
   "metadata": {},
   "outputs": [
    {
     "data": {
      "image/png": "[encoded data removed]",
      "text/plain": [
       "<Figure size 720x720 with 1 Axes>"
      ]
     },
     "metadata": {
      "needs_background": "light"
     },
     "output_type": "display_data"
    }
   ],
   "source": [
    "x = ['Jump Boost', 'Slow down', 'Time Penalty']\n",
    "\n",
    "y = [20, 31, 11]\n",
    "\n",
    "x_pos = [i for i in range(len(x))]\n",
    "\n",
    "fig = plt.figure(figsize=(10,10)) \n",
    "\n",
    "plt.bar(x_pos, y)\n",
    "\n",
    "plt.xlabel(\"Powerups\")\n",
    "\n",
    "plt.ylabel(\"Times Used\")\n",
    "\n",
    "plt.title(\"Powerups usage distribution\")\n",
    "\n",
    "plt.xticks(x_pos, x)\n",
    "\n",
    "plt.show()"
   ]
  },
  {
   "cell_type": "markdown",
   "metadata": {},
   "source": [
    "### Analytics graph #4"
   ]
  },
  {
   "cell_type": "code",
   "execution_count": 60,
   "metadata": {},
   "outputs": [
    {
     "data": {
      "image/png": "[encoded data removed]",
      "text/plain": [
       "<Figure size 720x720 with 1 Axes>"
      ]
     },
     "metadata": {
      "needs_background": "light"
     },
     "output_type": "display_data"
    }
   ],
   "source": [
    "labels = ['Lvl-1', 'Lvl-2', 'Lvl-3']\n",
    "\n",
    "avg_time_left = [27.5, 18.9, 8.2]\n",
    "\n",
    "total_time = [60, 45, 30]\n",
    "\n",
    "width = 0.4\n",
    "\n",
    "fig, ax = plt.subplots(figsize=(10,10))\n",
    "\n",
    "ax.bar(labels, total_time, width, label='Total Time')\n",
    "\n",
    "ax.bar(labels, avg_time_left, width, bottom=total_time, label='Avg Time Left')\n",
    "\n",
    "ax.set_ylabel('Time')\n",
    "\n",
    "ax.set_title('Avg time left and total time per level')\n",
    "\n",
    "ax.legend()\n",
    "\n",
    "plt.show()"
   ]
  },
  {
   "cell_type": "markdown",
   "metadata": {},
   "source": [
    "### Analytics graph #5"
   ]
  },
  {
   "cell_type": "code",
   "execution_count": 3,
   "metadata": {},
   "outputs": [
    {
     "data": {
      "image/png": "[encoded data removed]",
      "text/plain": [
       "<Figure size 720x720 with 1 Axes>"
      ]
     },
     "metadata": {
      "needs_background": "light"
     },
     "output_type": "display_data"
    }
   ],
   "source": [
    "x = ['Jumps Pressed', 'Left-Right Pressed', 'Teleportation (M) Pressed']\n",
    "\n",
    "y = [52, 31, 11]\n",
    "\n",
    "x_pos = [i for i in range(len(x))]\n",
    "\n",
    "fig = plt.figure(figsize=(10,10)) \n",
    "\n",
    "plt.bar(x_pos, y)\n",
    "\n",
    "plt.xlabel(\"Buttons Pressed\")\n",
    "\n",
    "plt.ylabel(\"Times Used\")\n",
    "\n",
    "plt.title(\"Buttons Pressed usage distribution\")\n",
    "\n",
    "plt.xticks(x_pos, x)\n",
    "\n",
    "plt.show()"
   ]
  },
  {
   "cell_type": "markdown",
   "metadata": {},
   "source": [
    "### Analytics graph #6"
   ]
  },
  {
   "cell_type": "code",
   "execution_count": 6,
   "metadata": {},
   "outputs": [
    {
     "data": {
      "image/png": "[encoded data removed]",
      "text/plain": [
       "<Figure size 720x720 with 1 Axes>"
      ]
     },
     "metadata": {
      "needs_background": "light"
     },
     "output_type": "display_data"
    }
   ],
   "source": [
    "x = ['Lvl-1', 'Lvl-2', 'Lvl-3']\n",
    "\n",
    "y = [85, 72, 60]\n",
    "\n",
    "x_pos = [i for i in range(len(x))]\n",
    "\n",
    "fig = plt.figure(figsize=(10,10)) \n",
    "\n",
    "plt.bar(x_pos, y)\n",
    "\n",
    "plt.xlabel(\"Levels\")\n",
    "\n",
    "plt.ylabel(\"% level completed\")\n",
    "\n",
    "plt.title(\"Level completion metrics\")\n",
    "\n",
    "plt.xticks(x_pos, x)\n",
    "\n",
    "plt.show()"
   ]
  },
  {
   "cell_type": "code",
   "execution_count": 26,
   "metadata": {},
   "outputs": [
    {
     "data": {
      "text/plain": [
       "Text(0, 0.5, 'Number of times')"
      ]
     },
     "execution_count": 26,
     "metadata": {},
     "output_type": "execute_result"
    },
    {
     "data": {
      "image/png": "[encoded data removed]",
      "text/plain": [
       "<Figure size 1080x576 with 1 Axes>"
      ]
     },
     "metadata": {
      "needs_background": "light"
     },
     "output_type": "display_data"
    }
   ],
   "source": [
    "import pandas as pd\n",
    "\n",
    "plotdata = pd.DataFrame({\n",
    "\n",
    "    \"Pause\":[57,67,77,83],\n",
    "\n",
    "    \"Resume\":[50,60,72,75],\n",
    "\n",
    "    \"Quit\":[70,75,84,90],\n",
    "    \n",
    "    \"Restart\":[40,45,50,52]},\n",
    "    \n",
    "\n",
    "    index=[\"Level-1\", \"Level-2\", \"Level-3\", \"Level-4\"])\n",
    "\n",
    "plotdata.plot(kind=\"bar\",figsize=(15, 8))\n",
    "\n",
    "plt.title(\"Button Presses\")\n",
    "\n",
    "plt.xlabel(\"Levels\")\n",
    "plt.ylabel(\"Number of times\")"
   ]
  },
  {
   "cell_type": "code",
   "execution_count": null,
   "metadata": {},
   "outputs": [],
   "source": []
  },
  {
   "cell_type": "code",
   "execution_count": null,
   "metadata": {},
   "outputs": [],
   "source": []
  },
  {
   "cell_type": "code",
   "execution_count": null,
   "metadata": {},
   "outputs": [],
   "source": []
  },
  {
   "cell_type": "code",
   "execution_count": null,
   "metadata": {},
   "outputs": [],
   "source": [
    "# --------------------------------------------- Post Midterm Analytics ---------------------------------------------"
   ]
  },
  {
   "cell_type": "code",
   "execution_count": 16,
   "metadata": {},
   "outputs": [],
   "source": [
    "import pandas as pd\n",
    "import numpy as np\n",
    "from matplotlib import pyplot as plt"
   ]
  },
  {
   "cell_type": "code",
   "execution_count": 17,
   "metadata": {},
   "outputs": [],
   "source": [
    "data = pd.read_csv('analytics.csv')"
   ]
  },
  {
   "cell_type": "code",
   "execution_count": 82,
   "metadata": {},
   "outputs": [
    {
     "data": {
      "image/png": "[encoded data removed]",
      "text/plain": [
       "<Figure size 1080x720 with 1 Axes>"
      ]
     },
     "metadata": {
      "needs_background": "light"
     },
     "output_type": "display_data"
    }
   ],
   "source": [
    "'''\n",
    "Graph 1: Level start vs Level end\n",
    "'''\n",
    "\n",
    "starts = data['StartedLevel'].value_counts().to_dict()\n",
    "ends = data['EndLevel'].value_counts().to_dict()\n",
    "\n",
    "lvl_starts = starts.values()\n",
    "lvl_ends = ends.values()\n",
    "\n",
    "labels = starts.keys()\n",
    "xlabels = ['Started', 'Ended']\n",
    "\n",
    "x = np.arange(len(labels))\n",
    "width = 0.4\n",
    "\n",
    "fig, ax = plt.subplots(figsize=(15,10))\n",
    "rects1 = ax.bar(x - width/2, lvl_starts, width, label='Starts')\n",
    "rects2 = ax.bar(x + width/2, lvl_ends, width, label='Ends')\n",
    "\n",
    "ax.set_ylabel('No. of plays')\n",
    "ax.set_title('Plays grouped by levels')\n",
    "ax.set_xticks(x, labels)\n",
    "ax.legend()\n",
    "\n",
    "ax.bar_label(rects1, padding=3)\n",
    "ax.bar_label(rects2, padding=3)\n",
    "plt.show()"
   ]
  },
  {
   "cell_type": "code",
   "execution_count": 94,
   "metadata": {},
   "outputs": [
    {
     "data": {
      "image/png": "[encoded data removed]",
      "text/plain": [
       "<Figure size 1080x720 with 1 Axes>"
      ]
     },
     "metadata": {
      "needs_background": "light"
     },
     "output_type": "display_data"
    }
   ],
   "source": [
    "'''\n",
    "Graph 2: Pause menu statistics\n",
    "'''\n",
    "\n",
    "pause = data['PauseButtonPress'].value_counts().to_dict()\n",
    "resume = data['ResumeButtonPress'].value_counts().to_dict()\n",
    "quit = data['QuitButtonPress'].value_counts().to_dict()\n",
    "restart = data['RestartButtonPress'].value_counts().to_dict()\n",
    "\n",
    "pause_vals, resume_vals, quit_vals, restart_vals = [], [], [], []\n",
    "\n",
    "for l in ['Level1', 'Level2', 'Level3', 'Level4']:\n",
    "    pause_vals.append(pause[l] if l in pause else 0)\n",
    "    resume_vals.append(resume[l] if l in resume else 0)\n",
    "    quit_vals.append(quit[l] if l in quit else 0)\n",
    "    restart_vals.append(restart[l] if l in restart else 0)\n",
    "\n",
    "plotdata = pd.DataFrame(\n",
    "    {\n",
    "    \"Pause\": pause_vals,\n",
    "    \"Resume\": resume_vals,\n",
    "    \"Quit\": quit_vals,\n",
    "    \"Restart\": restart_vals\n",
    "    },\n",
    "    index=[\"Level1\", \"Level2\", \"Level3\", \"Level4\"]\n",
    ")\n",
    "\n",
    "plotdata.plot(kind=\"bar\",figsize=(15,10))\n",
    "\n",
    "plt.title('Button Presses grouped by levels')\n",
    "\n",
    "plt.ylabel('Count')\n",
    "\n",
    "plt.show()"
   ]
  },
  {
   "cell_type": "code",
   "execution_count": 95,
   "metadata": {},
   "outputs": [
    {
     "data": {
      "image/png": "[encoded data removed]",
      "text/plain": [
       "<Figure size 1080x720 with 1 Axes>"
      ]
     },
     "metadata": {
      "needs_background": "light"
     },
     "output_type": "display_data"
    }
   ],
   "source": [
    "'''\n",
    "Graph 3: Jump,A,D and M usage Graph\n",
    "'''\n",
    "\n",
    "j = data['JumpPressed'].value_counts().to_dict()\n",
    "a = data['AKeyPressed'].value_counts().to_dict()\n",
    "d = data['DKeyPressed'].value_counts().to_dict()\n",
    "m = data['MKeyPressed'].value_counts().to_dict()\n",
    "\n",
    "j_vals, a_vals, d_vals, m_vals = [], [], [], []\n",
    "\n",
    "for l in ['Level1', 'Level2', 'Level3', 'Level4']:\n",
    "    j_vals.append(j[l] if l in j else 0)\n",
    "    a_vals.append(a[l] if l in a else 0)\n",
    "    d_vals.append(d[l] if l in d else 0)\n",
    "    m_vals.append(m[l] if l in m else 0)\n",
    "    \n",
    "plotdata = pd.DataFrame(\n",
    "    {\n",
    "    \"Jumps\": j_vals,\n",
    "    \"A | Left Move\": a_vals,\n",
    "    \"D | Right Move\": d_vals,\n",
    "    \"M | Teleport\": m_vals\n",
    "    },\n",
    "    index=[\"Level1\", \"Level2\", \"Level3\", \"Level4\"]\n",
    ")\n",
    "\n",
    "plotdata.plot(kind=\"bar\",figsize=(15,10))\n",
    "\n",
    "plt.title('Button Presses grouped by levels')\n",
    "\n",
    "plt.ylabel('Count')\n",
    "\n",
    "plt.show()"
   ]
  },
  {
   "cell_type": "code",
   "execution_count": 88,
   "metadata": {},
   "outputs": [
    {
     "data": {
      "image/png": "[encoded data removed]",
      "text/plain": [
       "<Figure size 1080x720 with 1 Axes>"
      ]
     },
     "metadata": {
      "needs_background": "light"
     },
     "output_type": "display_data"
    }
   ],
   "source": [
    "'''\n",
    "Graph 4: Percentage Level Completed\n",
    "'''\n",
    "\n",
    "percentage = list(data['PercentageLevelCompleted'].values)\n",
    "percentage = list(filter(pd.notnull, percentage))\n",
    "\n",
    "p_map = {\n",
    "    'Level1': 0,\n",
    "    'Level2': 0,\n",
    "    'Level3': 0,\n",
    "    'Level4': 0,\n",
    "}\n",
    "\n",
    "cnt_p_map = {\n",
    "    'Level1': 0,\n",
    "    'Level2': 0,\n",
    "    'Level3': 0,\n",
    "    'Level4': 0,\n",
    "}\n",
    "\n",
    "for p in percentage:\n",
    "    level, per = p.split('_')\n",
    "    cnt_p_map[level]+=1\n",
    "    p_map[level] += 100 if float(per)>=0.95 else float(per)*100\n",
    "\n",
    "l1_avg = p_map['Level1']/cnt_p_map['Level1']\n",
    "l2_avg = p_map['Level2']/cnt_p_map['Level2']\n",
    "l3_avg = p_map['Level3']/cnt_p_map['Level3']\n",
    "l4_avg = p_map['Level4']/cnt_p_map['Level4']\n",
    "\n",
    "avgerages = [l1_avg, l2_avg, l3_avg, l4_avg]\n",
    "\n",
    "plt.figure(figsize=(15,10))\n",
    "plt.bar(x,avgerages)\n",
    "plt.ylim([0, 110])\n",
    "\n",
    "plt.xticks(x, ['Level1', 'Level2', 'Level3', 'Level4'])\n",
    "\n",
    "plt.ylabel('Percentage Level Completion')\n",
    "\n",
    "plt.show()"
   ]
  },
  {
   "cell_type": "code",
   "execution_count": 96,
   "metadata": {},
   "outputs": [
    {
     "data": {
      "image/png": "[encoded data removed]",
      "text/plain": [
       "<Figure size 1080x720 with 1 Axes>"
      ]
     },
     "metadata": {
      "needs_background": "light"
     },
     "output_type": "display_data"
    }
   ],
   "source": [
    "'''\n",
    "Graph 5: Powerups usage\n",
    "'''\n",
    "\n",
    "i = data['InversionCollected'].value_counts().to_dict()\n",
    "p = data['PoisonCollected'].value_counts().to_dict()\n",
    "s = data['SpikeTouched'].value_counts().to_dict()\n",
    "b = data['BoosterCollected'].value_counts().to_dict()\n",
    "\n",
    "i_vals, p_vals, s_vals, b_vals = [], [], [], []\n",
    "\n",
    "for l in ['Level1', 'Level2', 'Level3', 'Level4']:\n",
    "    i_vals.append(i[l] if l in i else 0)\n",
    "    p_vals.append(p[l] if l in p else 0)\n",
    "    s_vals.append(s[l] if l in s else 0)\n",
    "    b_vals.append(b[l] if l in b else 0)\n",
    "    \n",
    "plotdata = pd.DataFrame(\n",
    "    {\n",
    "    \"Inversions\": i_vals,\n",
    "    \"Poison\": p_vals,\n",
    "    \"Spkie\": s_vals,\n",
    "    \"Booster\": b_vals\n",
    "    },\n",
    "    index=[\"Level1\", \"Level2\", \"Level3\", \"Level4\"]\n",
    ")\n",
    "\n",
    "plotdata.plot(kind=\"bar\",figsize=(15,10))\n",
    "\n",
    "plt.title('Powerups grouped by levels')\n",
    "\n",
    "plt.ylabel('Count')\n",
    "\n",
    "plt.show()"
   ]
  },
  {
   "cell_type": "code",
   "execution_count": 93,
   "metadata": {},
   "outputs": [
    {
     "data": {
      "image/png": "[encoded data removed]",
      "text/plain": [
       "<Figure size 1080x720 with 1 Axes>"
      ]
     },
     "metadata": {
      "needs_background": "light"
     },
     "output_type": "display_data"
    }
   ],
   "source": [
    "'''\n",
    "Graph 6: Time remaining on level end\n",
    "'''\n",
    "\n",
    "time = list(data['TimeRemainingOnEnd'].values)\n",
    "time = list(filter(pd.notnull, time))\n",
    "\n",
    "t_map = {\n",
    "    'Level1': 0,\n",
    "    'Level2': 0,\n",
    "    'Level3': 0,\n",
    "    'Level4': 0,\n",
    "}\n",
    "\n",
    "cnt_t_map = {\n",
    "    'Level1': 0,\n",
    "    'Level2': 0,\n",
    "    'Level3': 0,\n",
    "    'Level4': 0,\n",
    "}\n",
    "\n",
    "for t in time:\n",
    "    level, ti = t.split('_')\n",
    "    cnt_t_map[level]+=1\n",
    "    t_map[level] += float(ti)\n",
    "\n",
    "l1_avg = t_map['Level1']/cnt_t_map['Level1']\n",
    "l2_avg = t_map['Level2']/cnt_t_map['Level2']\n",
    "l3_avg = t_map['Level3']/cnt_t_map['Level3']\n",
    "l4_avg = t_map['Level4']/cnt_t_map['Level4']\n",
    "\n",
    "labels = ['Level1', 'Level2', 'Level3', 'Level4']\n",
    "\n",
    "avg_time_left = [l1_avg, l2_avg, l3_avg, l4_avg]\n",
    "\n",
    "total_time = [90, 150, 30, 150]\n",
    "\n",
    "width = 0.4\n",
    "\n",
    "fig, ax = plt.subplots(figsize=(15,10))\n",
    "\n",
    "ax.bar(labels, total_time, width, label='Total Time')\n",
    "\n",
    "ax.bar(labels, avg_time_left, width, bottom=total_time, label='Avg Time Left')\n",
    "\n",
    "ax.set_ylabel('Time')\n",
    "\n",
    "ax.set_title('Avg time left and total time per level')\n",
    "\n",
    "ax.legend()\n",
    "\n",
    "plt.show()"
   ]
  }
 ],
 "metadata": {
  "kernelspec": {
   "display_name": "Python 3 (ipykernel)",
   "language": "python",
   "name": "python3"
  },
  "language_info": {
   "codemirror_mode": {
    "name": "ipython",
    "version": 3
   },
   "file_extension": ".py",
   "mimetype": "text/x-python",
   "name": "python",
   "nbconvert_exporter": "python",
   "pygments_lexer": "ipython3",
   "version": "3.8.13"
  }
 },
 "nbformat": 4,
 "nbformat_minor": 4
}
