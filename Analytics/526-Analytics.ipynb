{
 "cells": [
  {
   "cell_type": "code",
   "execution_count": 60,
   "metadata": {},
   "outputs": [],
   "source": [
    "import pandas as pd\n",
    "import matplotlib.pyplot as plt\n",
    "import seaborn as sns"
   ]
  },
  {
   "cell_type": "code",
   "execution_count": 2,
   "metadata": {},
   "outputs": [],
   "source": [
    "data = pd.read_csv('TeamStonks Analytics.csv')"
   ]
  },
  {
   "cell_type": "code",
   "execution_count": 3,
   "metadata": {},
   "outputs": [
    {
     "data": {
      "text/html": [
       "<div>\n",
       "<style scoped>\n",
       "    .dataframe tbody tr th:only-of-type {\n",
       "        vertical-align: middle;\n",
       "    }\n",
       "\n",
       "    .dataframe tbody tr th {\n",
       "        vertical-align: top;\n",
       "    }\n",
       "\n",
       "    .dataframe thead th {\n",
       "        text-align: right;\n",
       "    }\n",
       "</style>\n",
       "<table border=\"1\" class=\"dataframe\">\n",
       "  <thead>\n",
       "    <tr style=\"text-align: right;\">\n",
       "      <th></th>\n",
       "      <th>Timestamp</th>\n",
       "      <th>StartedLevel</th>\n",
       "      <th>EndLevel</th>\n",
       "      <th>TimeRemainingOnEnd</th>\n",
       "    </tr>\n",
       "  </thead>\n",
       "  <tbody>\n",
       "    <tr>\n",
       "      <th>0</th>\n",
       "      <td>2022/09/26 5:44:23 PM MDT</td>\n",
       "      <td>1.0</td>\n",
       "      <td>NaN</td>\n",
       "      <td>NaN</td>\n",
       "    </tr>\n",
       "    <tr>\n",
       "      <th>1</th>\n",
       "      <td>2022/09/26 5:44:38 PM MDT</td>\n",
       "      <td>NaN</td>\n",
       "      <td>1.0</td>\n",
       "      <td>NaN</td>\n",
       "    </tr>\n",
       "    <tr>\n",
       "      <th>2</th>\n",
       "      <td>2022/09/26 5:44:46 PM MDT</td>\n",
       "      <td>1.0</td>\n",
       "      <td>NaN</td>\n",
       "      <td>NaN</td>\n",
       "    </tr>\n",
       "    <tr>\n",
       "      <th>3</th>\n",
       "      <td>2022/09/26 5:45:12 PM MDT</td>\n",
       "      <td>1.0</td>\n",
       "      <td>NaN</td>\n",
       "      <td>NaN</td>\n",
       "    </tr>\n",
       "    <tr>\n",
       "      <th>4</th>\n",
       "      <td>2022/09/26 5:45:40 PM MDT</td>\n",
       "      <td>1.0</td>\n",
       "      <td>NaN</td>\n",
       "      <td>NaN</td>\n",
       "    </tr>\n",
       "    <tr>\n",
       "      <th>5</th>\n",
       "      <td>2022/09/26 5:45:58 PM MDT</td>\n",
       "      <td>NaN</td>\n",
       "      <td>1.0</td>\n",
       "      <td>NaN</td>\n",
       "    </tr>\n",
       "    <tr>\n",
       "      <th>6</th>\n",
       "      <td>2022/09/26 5:46:34 PM MDT</td>\n",
       "      <td>1.0</td>\n",
       "      <td>NaN</td>\n",
       "      <td>NaN</td>\n",
       "    </tr>\n",
       "    <tr>\n",
       "      <th>7</th>\n",
       "      <td>2022/09/26 5:46:44 PM MDT</td>\n",
       "      <td>NaN</td>\n",
       "      <td>1.0</td>\n",
       "      <td>NaN</td>\n",
       "    </tr>\n",
       "    <tr>\n",
       "      <th>8</th>\n",
       "      <td>2022/09/26 5:46:46 PM MDT</td>\n",
       "      <td>1.0</td>\n",
       "      <td>NaN</td>\n",
       "      <td>NaN</td>\n",
       "    </tr>\n",
       "    <tr>\n",
       "      <th>9</th>\n",
       "      <td>2022/09/26 5:47:09 PM MDT</td>\n",
       "      <td>NaN</td>\n",
       "      <td>1.0</td>\n",
       "      <td>NaN</td>\n",
       "    </tr>\n",
       "    <tr>\n",
       "      <th>10</th>\n",
       "      <td>2022/09/26 5:49:03 PM MDT</td>\n",
       "      <td>1.0</td>\n",
       "      <td>NaN</td>\n",
       "      <td>NaN</td>\n",
       "    </tr>\n",
       "    <tr>\n",
       "      <th>11</th>\n",
       "      <td>2022/09/26 5:49:18 PM MDT</td>\n",
       "      <td>NaN</td>\n",
       "      <td>1.0</td>\n",
       "      <td>NaN</td>\n",
       "    </tr>\n",
       "    <tr>\n",
       "      <th>12</th>\n",
       "      <td>2022/09/26 5:51:18 PM MDT</td>\n",
       "      <td>1.0</td>\n",
       "      <td>NaN</td>\n",
       "      <td>NaN</td>\n",
       "    </tr>\n",
       "    <tr>\n",
       "      <th>13</th>\n",
       "      <td>2022/09/26 5:56:14 PM MDT</td>\n",
       "      <td>1.0</td>\n",
       "      <td>NaN</td>\n",
       "      <td>NaN</td>\n",
       "    </tr>\n",
       "    <tr>\n",
       "      <th>14</th>\n",
       "      <td>2022/09/26 5:56:36 PM MDT</td>\n",
       "      <td>NaN</td>\n",
       "      <td>1.0</td>\n",
       "      <td>NaN</td>\n",
       "    </tr>\n",
       "    <tr>\n",
       "      <th>15</th>\n",
       "      <td>2022/09/26 5:56:36 PM MDT</td>\n",
       "      <td>NaN</td>\n",
       "      <td>NaN</td>\n",
       "      <td>1.500150</td>\n",
       "    </tr>\n",
       "    <tr>\n",
       "      <th>16</th>\n",
       "      <td>2022/09/26 6:00:55 PM MDT</td>\n",
       "      <td>1.0</td>\n",
       "      <td>NaN</td>\n",
       "      <td>NaN</td>\n",
       "    </tr>\n",
       "    <tr>\n",
       "      <th>17</th>\n",
       "      <td>2022/09/26 6:01:11 PM MDT</td>\n",
       "      <td>NaN</td>\n",
       "      <td>1.0</td>\n",
       "      <td>NaN</td>\n",
       "    </tr>\n",
       "    <tr>\n",
       "      <th>18</th>\n",
       "      <td>2022/09/26 6:01:11 PM MDT</td>\n",
       "      <td>NaN</td>\n",
       "      <td>NaN</td>\n",
       "      <td>12.640100</td>\n",
       "    </tr>\n",
       "    <tr>\n",
       "      <th>19</th>\n",
       "      <td>2022/09/26 6:02:12 PM MDT</td>\n",
       "      <td>1.0</td>\n",
       "      <td>NaN</td>\n",
       "      <td>NaN</td>\n",
       "    </tr>\n",
       "    <tr>\n",
       "      <th>20</th>\n",
       "      <td>2022/09/26 6:02:25 PM MDT</td>\n",
       "      <td>NaN</td>\n",
       "      <td>NaN</td>\n",
       "      <td>15.832720</td>\n",
       "    </tr>\n",
       "    <tr>\n",
       "      <th>21</th>\n",
       "      <td>2022/09/26 6:02:25 PM MDT</td>\n",
       "      <td>NaN</td>\n",
       "      <td>1.0</td>\n",
       "      <td>NaN</td>\n",
       "    </tr>\n",
       "    <tr>\n",
       "      <th>22</th>\n",
       "      <td>2022/09/26 6:02:35 PM MDT</td>\n",
       "      <td>1.0</td>\n",
       "      <td>NaN</td>\n",
       "      <td>NaN</td>\n",
       "    </tr>\n",
       "    <tr>\n",
       "      <th>23</th>\n",
       "      <td>2022/09/26 6:02:58 PM MDT</td>\n",
       "      <td>NaN</td>\n",
       "      <td>1.0</td>\n",
       "      <td>NaN</td>\n",
       "    </tr>\n",
       "    <tr>\n",
       "      <th>24</th>\n",
       "      <td>2022/09/26 6:02:58 PM MDT</td>\n",
       "      <td>NaN</td>\n",
       "      <td>NaN</td>\n",
       "      <td>6.202468</td>\n",
       "    </tr>\n",
       "    <tr>\n",
       "      <th>25</th>\n",
       "      <td>2022/09/26 6:03:02 PM MDT</td>\n",
       "      <td>1.0</td>\n",
       "      <td>NaN</td>\n",
       "      <td>NaN</td>\n",
       "    </tr>\n",
       "    <tr>\n",
       "      <th>26</th>\n",
       "      <td>2022/09/26 6:03:14 PM MDT</td>\n",
       "      <td>NaN</td>\n",
       "      <td>NaN</td>\n",
       "      <td>17.750370</td>\n",
       "    </tr>\n",
       "    <tr>\n",
       "      <th>27</th>\n",
       "      <td>2022/09/26 6:03:14 PM MDT</td>\n",
       "      <td>NaN</td>\n",
       "      <td>1.0</td>\n",
       "      <td>NaN</td>\n",
       "    </tr>\n",
       "    <tr>\n",
       "      <th>28</th>\n",
       "      <td>2022/09/26 6:03:29 PM MDT</td>\n",
       "      <td>1.0</td>\n",
       "      <td>NaN</td>\n",
       "      <td>NaN</td>\n",
       "    </tr>\n",
       "    <tr>\n",
       "      <th>29</th>\n",
       "      <td>2022/09/26 6:03:50 PM MDT</td>\n",
       "      <td>NaN</td>\n",
       "      <td>1.0</td>\n",
       "      <td>NaN</td>\n",
       "    </tr>\n",
       "    <tr>\n",
       "      <th>30</th>\n",
       "      <td>2022/09/26 6:03:50 PM MDT</td>\n",
       "      <td>NaN</td>\n",
       "      <td>NaN</td>\n",
       "      <td>3.481785</td>\n",
       "    </tr>\n",
       "    <tr>\n",
       "      <th>31</th>\n",
       "      <td>2022/09/26 6:03:52 PM MDT</td>\n",
       "      <td>1.0</td>\n",
       "      <td>NaN</td>\n",
       "      <td>NaN</td>\n",
       "    </tr>\n",
       "    <tr>\n",
       "      <th>32</th>\n",
       "      <td>2022/09/26 6:04:03 PM MDT</td>\n",
       "      <td>NaN</td>\n",
       "      <td>1.0</td>\n",
       "      <td>NaN</td>\n",
       "    </tr>\n",
       "    <tr>\n",
       "      <th>33</th>\n",
       "      <td>2022/09/26 6:04:03 PM MDT</td>\n",
       "      <td>NaN</td>\n",
       "      <td>NaN</td>\n",
       "      <td>18.228780</td>\n",
       "    </tr>\n",
       "    <tr>\n",
       "      <th>34</th>\n",
       "      <td>2022/09/26 6:04:20 PM MDT</td>\n",
       "      <td>1.0</td>\n",
       "      <td>NaN</td>\n",
       "      <td>NaN</td>\n",
       "    </tr>\n",
       "    <tr>\n",
       "      <th>35</th>\n",
       "      <td>2022/09/26 6:04:29 PM MDT</td>\n",
       "      <td>NaN</td>\n",
       "      <td>1.0</td>\n",
       "      <td>NaN</td>\n",
       "    </tr>\n",
       "    <tr>\n",
       "      <th>36</th>\n",
       "      <td>2022/09/26 6:04:29 PM MDT</td>\n",
       "      <td>NaN</td>\n",
       "      <td>NaN</td>\n",
       "      <td>25.354190</td>\n",
       "    </tr>\n",
       "  </tbody>\n",
       "</table>\n",
       "</div>"
      ],
      "text/plain": [
       "                    Timestamp  StartedLevel  EndLevel  TimeRemainingOnEnd\n",
       "0   2022/09/26 5:44:23 PM MDT           1.0       NaN                 NaN\n",
       "1   2022/09/26 5:44:38 PM MDT           NaN       1.0                 NaN\n",
       "2   2022/09/26 5:44:46 PM MDT           1.0       NaN                 NaN\n",
       "3   2022/09/26 5:45:12 PM MDT           1.0       NaN                 NaN\n",
       "4   2022/09/26 5:45:40 PM MDT           1.0       NaN                 NaN\n",
       "5   2022/09/26 5:45:58 PM MDT           NaN       1.0                 NaN\n",
       "6   2022/09/26 5:46:34 PM MDT           1.0       NaN                 NaN\n",
       "7   2022/09/26 5:46:44 PM MDT           NaN       1.0                 NaN\n",
       "8   2022/09/26 5:46:46 PM MDT           1.0       NaN                 NaN\n",
       "9   2022/09/26 5:47:09 PM MDT           NaN       1.0                 NaN\n",
       "10  2022/09/26 5:49:03 PM MDT           1.0       NaN                 NaN\n",
       "11  2022/09/26 5:49:18 PM MDT           NaN       1.0                 NaN\n",
       "12  2022/09/26 5:51:18 PM MDT           1.0       NaN                 NaN\n",
       "13  2022/09/26 5:56:14 PM MDT           1.0       NaN                 NaN\n",
       "14  2022/09/26 5:56:36 PM MDT           NaN       1.0                 NaN\n",
       "15  2022/09/26 5:56:36 PM MDT           NaN       NaN            1.500150\n",
       "16  2022/09/26 6:00:55 PM MDT           1.0       NaN                 NaN\n",
       "17  2022/09/26 6:01:11 PM MDT           NaN       1.0                 NaN\n",
       "18  2022/09/26 6:01:11 PM MDT           NaN       NaN           12.640100\n",
       "19  2022/09/26 6:02:12 PM MDT           1.0       NaN                 NaN\n",
       "20  2022/09/26 6:02:25 PM MDT           NaN       NaN           15.832720\n",
       "21  2022/09/26 6:02:25 PM MDT           NaN       1.0                 NaN\n",
       "22  2022/09/26 6:02:35 PM MDT           1.0       NaN                 NaN\n",
       "23  2022/09/26 6:02:58 PM MDT           NaN       1.0                 NaN\n",
       "24  2022/09/26 6:02:58 PM MDT           NaN       NaN            6.202468\n",
       "25  2022/09/26 6:03:02 PM MDT           1.0       NaN                 NaN\n",
       "26  2022/09/26 6:03:14 PM MDT           NaN       NaN           17.750370\n",
       "27  2022/09/26 6:03:14 PM MDT           NaN       1.0                 NaN\n",
       "28  2022/09/26 6:03:29 PM MDT           1.0       NaN                 NaN\n",
       "29  2022/09/26 6:03:50 PM MDT           NaN       1.0                 NaN\n",
       "30  2022/09/26 6:03:50 PM MDT           NaN       NaN            3.481785\n",
       "31  2022/09/26 6:03:52 PM MDT           1.0       NaN                 NaN\n",
       "32  2022/09/26 6:04:03 PM MDT           NaN       1.0                 NaN\n",
       "33  2022/09/26 6:04:03 PM MDT           NaN       NaN           18.228780\n",
       "34  2022/09/26 6:04:20 PM MDT           1.0       NaN                 NaN\n",
       "35  2022/09/26 6:04:29 PM MDT           NaN       1.0                 NaN\n",
       "36  2022/09/26 6:04:29 PM MDT           NaN       NaN           25.354190"
      ]
     },
     "execution_count": 3,
     "metadata": {},
     "output_type": "execute_result"
    }
   ],
   "source": [
    "data"
   ]
  },
  {
   "cell_type": "markdown",
   "metadata": {},
   "source": [
    "### Analytics graph #1 "
   ]
  },
  {
   "cell_type": "code",
   "execution_count": 6,
   "metadata": {},
   "outputs": [],
   "source": [
    "ylabels = [data['StartedLevel'].sum(), data['EndLevel'].sum()]"
   ]
  },
  {
   "cell_type": "code",
   "execution_count": 15,
   "metadata": {},
   "outputs": [],
   "source": [
    "xlabels = ['Game Started', 'Game Ended']"
   ]
  },
  {
   "cell_type": "code",
   "execution_count": 21,
   "metadata": {},
   "outputs": [
    {
     "data": {
      "image/png": "[encoded data removed]",
      "text/plain": [
       "<Figure size 720x360 with 1 Axes>"
      ]
     },
     "metadata": {
      "needs_background": "light"
     },
     "output_type": "display_data"
    }
   ],
   "source": [
    "fig = plt.figure(figsize = (10, 5))\n",
    " \n",
    "plt.bar(xlabels, ylabels, color ='gray',\n",
    "        width = 0.4)\n",
    " \n",
    "plt.xlabel(\"GamePlay Types\")\n",
    "plt.ylabel(\"No. of plays\")\n",
    "plt.title(\"Tracking Gameplays Started vs Ended\")\n",
    "plt.show()"
   ]
  },
  {
   "cell_type": "code",
   "execution_count": 25,
   "metadata": {},
   "outputs": [],
   "source": [
    "timeremainingList = data['TimeRemainingOnEnd'].dropna().to_list()"
   ]
  },
  {
   "cell_type": "code",
   "execution_count": 30,
   "metadata": {},
   "outputs": [
    {
     "data": {
      "text/plain": [
       "[1.50015,\n",
       " 12.6401,\n",
       " 15.832720000000002,\n",
       " 6.202468,\n",
       " 17.75037,\n",
       " 3.481785,\n",
       " 18.22878,\n",
       " 25.35419]"
      ]
     },
     "execution_count": 30,
     "metadata": {},
     "output_type": "execute_result"
    }
   ],
   "source": [
    "timeremainingList"
   ]
  },
  {
   "cell_type": "code",
   "execution_count": 29,
   "metadata": {},
   "outputs": [
    {
     "data": {
      "image/png": "[encoded data removed]",
      "text/plain": [
       "<Figure size 432x288 with 1 Axes>"
      ]
     },
     "metadata": {
      "needs_background": "light"
     },
     "output_type": "display_data"
    }
   ],
   "source": [
    "plt.hist(timeremainingList, histtype ='bar')\n",
    "plt.show()"
   ]
  },
  {
   "cell_type": "markdown",
   "metadata": {},
   "source": [
    "### Analytics graph #2 "
   ]
  },
  {
   "cell_type": "code",
   "execution_count": 68,
   "metadata": {},
   "outputs": [
    {
     "data": {
      "text/plain": [
       "['0-5s', '5-10s', '10-15s', '15-20s', '20-25s']"
      ]
     },
     "execution_count": 68,
     "metadata": {},
     "output_type": "execute_result"
    }
   ],
   "source": [
    "xlabel = list(np.arange(0,5))\n",
    "xlabel = [str(i*5) + \"-\" + str((i+1) *5) + \"s\" for i in xlabel]\n",
    "xlabel"
   ]
  },
  {
   "cell_type": "code",
   "execution_count": 69,
   "metadata": {},
   "outputs": [],
   "source": [
    "from collections import defaultdict, OrderedDict\n",
    "ret_dict = defaultdict(lambda: 0)\n",
    "for num in timeremainingList:\n",
    "    ret_dict[num//5] += 1"
   ]
  },
  {
   "cell_type": "code",
   "execution_count": 70,
   "metadata": {},
   "outputs": [],
   "source": [
    "ret_dict = OrderedDict(sorted(ret_dict.items()))"
   ]
  },
  {
   "cell_type": "code",
   "execution_count": 71,
   "metadata": {},
   "outputs": [
    {
     "data": {
      "text/plain": [
       "{'values': [2, 1, 1, 3, 1],\n",
       " 'xlabel': ['0-5s', '5-10s', '10-15s', '15-20s', '20-25s']}"
      ]
     },
     "execution_count": 71,
     "metadata": {},
     "output_type": "execute_result"
    }
   ],
   "source": [
    "data = {'values': ylabel, 'xlabel': xlabel}\n",
    "data"
   ]
  },
  {
   "cell_type": "code",
   "execution_count": 76,
   "metadata": {},
   "outputs": [
    {
     "data": {
      "image/png": "[encoded data removed]",
      "text/plain": [
       "<Figure size 1800x1080 with 1 Axes>"
      ]
     },
     "metadata": {},
     "output_type": "display_data"
    }
   ],
   "source": [
    "data = {'values': ylabel, 'xlabel': xlabel}\n",
    "sum_containers = np.sum(ylabel)\n",
    "sns.set(font_scale=1.5)\n",
    "plt.figure(figsize = (25,15))\n",
    "ax = sns.barplot(x=\"xlabel\", y=\"values\", data=data)\n",
    "ax.set(xlabel='Time remaining range (%)', ylabel = 'Number of GamePlays')\n",
    "heights = []\n",
    "widths = []\n",
    "for i in ax.patches:\n",
    "    heights.append(i.get_height())\n",
    "    widths.append(i.get_width())\n",
    "rsum = 0\n",
    "for index in range(len(data['values'])):\n",
    "    ax.text(rsum, heights[index], \"{0:.2f}%\".format(100*(data['values'][index]/sum_containers)) , color='black', ha=\"center\")\n",
    "    rsum = rsum + widths[index] + 0.2\n",
    "    plt.title('Distribution of Time remaining when gameplay ends')\n",
    "\n"
   ]
  },
  {
   "cell_type": "code",
   "execution_count": null,
   "metadata": {},
   "outputs": [],
   "source": []
  }
 ],
 "metadata": {
  "kernelspec": {
   "display_name": "Python 3",
   "language": "python",
   "name": "python3"
  },
  "language_info": {
   "codemirror_mode": {
    "name": "ipython",
    "version": 3
   },
   "file_extension": ".py",
   "mimetype": "text/x-python",
   "name": "python",
   "nbconvert_exporter": "python",
   "pygments_lexer": "ipython3",
   "version": "3.8.3"
  }
 },
 "nbformat": 4,
 "nbformat_minor": 4
}
